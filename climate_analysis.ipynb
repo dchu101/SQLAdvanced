{
 "cells": [
  {
   "cell_type": "code",
   "execution_count": 89,
   "metadata": {},
   "outputs": [],
   "source": [
    "# Python SQL toolkit and Object Relational Mapper\n",
    "import sqlalchemy\n",
    "from sqlalchemy.ext.automap import automap_base\n",
    "from sqlalchemy.orm import Session\n",
    "from sqlalchemy import create_engine, inspect, and_\n",
    "\n",
    "import pandas as pd\n",
    "\n",
    "from matplotlib import pyplot as plt"
   ]
  },
  {
   "cell_type": "code",
   "execution_count": 2,
   "metadata": {},
   "outputs": [],
   "source": [
    "engine = create_engine(\"sqlite:///Resources/hawaii.sqlite\", echo=False)"
   ]
  },
  {
   "cell_type": "code",
   "execution_count": 3,
   "metadata": {},
   "outputs": [
    {
     "data": {
      "text/plain": [
       "['measurements', 'stations']"
      ]
     },
     "execution_count": 3,
     "metadata": {},
     "output_type": "execute_result"
    }
   ],
   "source": [
    "# Reflect Database into ORM classes\n",
    "Base = automap_base()\n",
    "Base.prepare(engine, reflect=True)\n",
    "Base.classes.keys()"
   ]
  },
  {
   "cell_type": "code",
   "execution_count": 4,
   "metadata": {},
   "outputs": [],
   "source": [
    "# Map\n",
    "\n",
    "Measurement = Base.classes.measurements\n",
    "Station = Base.classes.stations"
   ]
  },
  {
   "cell_type": "code",
   "execution_count": 5,
   "metadata": {},
   "outputs": [],
   "source": [
    "# create a session\n",
    "session = Session(engine)"
   ]
  },
  {
   "cell_type": "code",
   "execution_count": 6,
   "metadata": {},
   "outputs": [],
   "source": [
    "# Design a query to retrieve the last 12 months of precipitation data.\n",
    "\n",
    "# Most recent date is 2017-08-23\n",
    "# Picking 2017-08-17 to 2017-08-23 as vacation dates\n",
    "\n",
    "measures = (session\n",
    "          .query(Measurement)\n",
    "          .filter(Measurement.date > '2016-08-23'))"
   ]
  },
  {
   "cell_type": "code",
   "execution_count": 7,
   "metadata": {},
   "outputs": [],
   "source": [
    "# Select only the `date` and `prcp` values.\n",
    "yr_measures_df = pd.read_sql(measures.statement, session.bind)\n",
    "yr_precip_df = yr_measures_df[['date','prcp']]\n",
    "\n",
    "# Set index to date\n",
    "yr_precip_df.set_index('date', inplace=True)"
   ]
  },
  {
   "cell_type": "code",
   "execution_count": 8,
   "metadata": {},
   "outputs": [
    {
     "data": {
      "text/plain": [
       "<matplotlib.axes._subplots.AxesSubplot at 0x10e9ba358>"
      ]
     },
     "execution_count": 8,
     "metadata": {},
     "output_type": "execute_result"
    },
    {
     "data": {
      "image/png": "[encoded data removed]",
      "text/plain": [
       "<matplotlib.figure.Figure at 0x10e951b38>"
      ]
     },
     "metadata": {},
     "output_type": "display_data"
    }
   ],
   "source": [
    "yr_precip_df.plot(y='prcp')"
   ]
  },
  {
   "cell_type": "code",
   "execution_count": 9,
   "metadata": {},
   "outputs": [
    {
     "name": "stdout",
     "output_type": "stream",
     "text": [
      "There are 9 stations.\n"
     ]
    }
   ],
   "source": [
    "# Design a query to calculate the total number of stations.\n",
    "\n",
    "station_count = (session\n",
    "                 .query(Station)\n",
    "                 .count())\n",
    "\n",
    "print(f'There are {station_count} stations.')"
   ]
  },
  {
   "cell_type": "code",
   "execution_count": 10,
   "metadata": {},
   "outputs": [
    {
     "name": "stdout",
     "output_type": "stream",
     "text": [
      "('USC00519281', 2772)\n",
      "('USC00513117', 2696)\n",
      "('USC00519397', 2685)\n",
      "('USC00519523', 2572)\n",
      "('USC00516128', 2484)\n",
      "('USC00514830', 1937)\n",
      "('USC00511918', 1932)\n",
      "('USC00517948', 683)\n",
      "('USC00518838', 342)\n",
      "USC00519281 has the most readings.\n"
     ]
    }
   ],
   "source": [
    "# Design a query to find the most active stations.\n",
    "\n",
    "from sqlalchemy import func\n",
    "\n",
    "station_count = (session\n",
    "                .query(Measurement.station, func.count(Measurement.prcp))\n",
    "                .group_by(Measurement.station)\n",
    "                .order_by(func.count(Measurement.prcp).desc()))\n",
    "\n",
    "for row in station_count:\n",
    "    print(row)\n",
    "    \n",
    "print('USC00519281 has the most readings.')"
   ]
  },
  {
   "cell_type": "code",
   "execution_count": 14,
   "metadata": {},
   "outputs": [],
   "source": [
    "# Design a query to retrieve the last 12 months of temperature observation data (tobs).\n",
    "# Filter by the station with the highest number of observations.\n",
    "# Plot the results as a histogram with `bins=12`.\n",
    "\n",
    "yr_measures_df_USC00519281 = yr_measures_df[yr_measures_df['station'] == 'USC00519281']\n",
    "\n",
    "yr_tobs_USC00519281 = yr_measures_df_USC00519281[['date', 'tobs']]\n",
    "\n"
   ]
  },
  {
   "cell_type": "code",
   "execution_count": 19,
   "metadata": {},
   "outputs": [
    {
     "data": {
      "text/plain": [
       "array([[<matplotlib.axes._subplots.AxesSubplot object at 0x114e175f8>]],\n",
       "      dtype=object)"
      ]
     },
     "execution_count": 19,
     "metadata": {},
     "output_type": "execute_result"
    },
    {
     "data": {
      "image/png": "[encoded data removed]",
      "text/plain": [
       "<matplotlib.figure.Figure at 0x114871c18>"
      ]
     },
     "metadata": {},
     "output_type": "display_data"
    }
   ],
   "source": [
    "yr_tobs_USC00519281.hist(bins=12)"
   ]
  },
  {
   "cell_type": "code",
   "execution_count": 84,
   "metadata": {},
   "outputs": [],
   "source": [
    "# Write function called `calc_temps` to accept start date and end date in the format `%Y-%m-%d` and return the minimum, average, and maximum temperatures for that range of dates.\n",
    "\n",
    "def calc_temps():\n",
    "    \n",
    "    global max_temp, min_temp, avg_temp\n",
    "    \n",
    "    start_dt = input('Start date for range? %Y-%m-%d : ')\n",
    "    end_dt = input('End date for range? : ')\n",
    "    \n",
    "    temps = (session\n",
    "             .query(Measurement.tobs)\n",
    "             .filter(and_((Measurement.date >= '20' + start_dt), \n",
    "                          (Measurement.date <= '20' + end_dt))))\n",
    "\n",
    "    \n",
    "    temps_df = pd.read_sql(temps.statement, session.bind)\n",
    "\n",
    "    max_temp = float(temps_df.max())\n",
    "    min_temp = float(temps_df.min())\n",
    "    avg_temp = float(round(temps_df.mean(), 1))\n",
    "    \n",
    "    print(f'Max temperature : {max_temp}\\nMin temperature : {min_temp}\\nAverage temperature : {avg_temp}')\n"
   ]
  },
  {
   "cell_type": "code",
   "execution_count": 51,
   "metadata": {},
   "outputs": [
    {
     "name": "stdout",
     "output_type": "stream",
     "text": [
      "Max temperature : 87.0\n",
      "Min temperature : 58.0\n",
      "Average temperature : 73.67\n"
     ]
    }
   ],
   "source": [
    "\n",
    "# Input is acting funny while being called from ipynb file, just going to duplicate the code\n",
    "\n",
    "# Plot the min, avg, and max temperature from your previous query as a bar chart.\n",
    "\n",
    "  # Use the average temperature as the bar height.\n",
    "\n",
    "  # Use the peak-to-peak (tmax-tmin) value as the y error bar (yerr)."
   ]
  },
  {
   "cell_type": "code",
   "execution_count": 85,
   "metadata": {},
   "outputs": [
    {
     "name": "stdout",
     "output_type": "stream",
     "text": [
      "Start date for range? %Y-%m-%d : 16-08-17\n",
      "End date for range? : 16-08-23\n",
      "Max temperature : 82.0\n",
      "Min temperature : 72.0\n",
      "Average temperature : 78.1\n"
     ]
    }
   ],
   "source": [
    "# Calculate the min, avg, and max temps for  trip from the previous year\n",
    "# Dates: 16-08-17 to 16-08-23 as vacation dates\n",
    "\n",
    "calc_temps()"
   ]
  },
  {
   "cell_type": "code",
   "execution_count": 136,
   "metadata": {},
   "outputs": [
    {
     "data": {
      "text/plain": [
       "(-1, 1)"
      ]
     },
     "execution_count": 136,
     "metadata": {},
     "output_type": "execute_result"
    },
    {
     "data": {
      "image/png": "[encoded data removed]",
      "text/plain": [
       "<matplotlib.figure.Figure at 0x119f4e080>"
      ]
     },
     "metadata": {},
     "output_type": "display_data"
    }
   ],
   "source": [
    "# Use the average temperature as the bar height.\n",
    "# Use the peak-to-peak (tmax-tmin) value as the y error bar (yerr).\n",
    "\n",
    "\n",
    "plt.bar(0, height=avg_temp, width = 0.4)\n",
    "plt.vlines(0, min_temp, max_temp)\n",
    "plt.xlim(-1, 1)\n"
   ]
  },
  {
   "cell_type": "code",
   "execution_count": 120,
   "metadata": {},
   "outputs": [
    {
     "data": {
      "image/png": "[encoded data removed]",
      "text/plain": [
       "<matplotlib.figure.Figure at 0x118b12cf8>"
      ]
     },
     "metadata": {},
     "output_type": "display_data"
    }
   ],
   "source": []
  },
  {
   "cell_type": "code",
   "execution_count": null,
   "metadata": {},
   "outputs": [],
   "source": []
  }
 ],
 "metadata": {
  "kernelspec": {
   "display_name": "Python 3",
   "language": "python",
   "name": "python3"
  },
  "language_info": {
   "codemirror_mode": {
    "name": "ipython",
    "version": 3
   },
   "file_extension": ".py",
   "mimetype": "text/x-python",
   "name": "python",
   "nbconvert_exporter": "python",
   "pygments_lexer": "ipython3",
   "version": "3.6.4"
  }
 },
 "nbformat": 4,
 "nbformat_minor": 2
}
