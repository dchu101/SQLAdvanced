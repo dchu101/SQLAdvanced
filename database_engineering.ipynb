{
 "cells": [
  {
   "cell_type": "code",
   "execution_count": 1,
   "metadata": {},
   "outputs": [],
   "source": [
    "from sqlalchemy import create_engine\n",
    "from sqlalchemy import Column, Integer, String, Float\n",
    "\n",
    "from sqlalchemy.ext.declarative import declarative_base\n",
    "Base = declarative_base()"
   ]
  },
  {
   "cell_type": "code",
   "execution_count": null,
   "metadata": {},
   "outputs": [],
   "source": [
    "class BaseballPlayer(Base):\n",
    "  __tablename__ = \"player\"\n",
    "  player_id = Column(String, primary_key=True)\n",
    "  birth_year = Column(Integer)\n",
    "  birth_month = Column(Integer)\n",
    "  birth_day = Column(Integer)\n",
    "  birth_country = Column(String)\n",
    "  birth_state = Column(String)\n",
    "  birth_city = Column(String)\n",
    "  name_first = Column(String)\n",
    "  name_last = Column(String)\n",
    "  name_given = Column(String)\n",
    "  weight = Column(Integer)\n",
    "  height = Column(Integer)\n",
    "  bats = Column(String)\n",
    "  throws = Column(String)\n",
    "  debut = Column(String)\n",
    "  final_game = Column(String)"
   ]
  },
  {
   "cell_type": "code",
   "execution_count": null,
   "metadata": {},
   "outputs": [],
   "source": [
    "# Create Database Connection\n",
    "engine = create_engine('sqlite:///Resources/database.sqlite')\n",
    "Base.metadata.create_all(engine)"
   ]
  },
  {
   "cell_type": "code",
   "execution_count": null,
   "metadata": {},
   "outputs": [],
   "source": [
    "from sqlalchemy.orm import Session\n",
    "session = Session(bind=engine)"
   ]
  },
  {
   "cell_type": "code",
   "execution_count": null,
   "metadata": {},
   "outputs": [],
   "source": [
    "# Find the number of players from the USA\n",
    "usa = (session\n",
    "       .query(BaseballPlayer)\n",
    "       .filter(BaseballPlayer.birth_country == 'USA')\n",
    "       .count())\n",
    "print(\"There are {} players from the USA\".format(usa))"
   ]
  }
 ],
 "metadata": {
  "kernelspec": {
   "display_name": "Python 3",
   "language": "python",
   "name": "python3"
  },
  "language_info": {
   "codemirror_mode": {
    "name": "ipython",
    "version": 3
   },
   "file_extension": ".py",
   "mimetype": "text/x-python",
   "name": "python",
   "nbconvert_exporter": "python",
   "pygments_lexer": "ipython3",
   "version": "3.6.4"
  }
 },
 "nbformat": 4,
 "nbformat_minor": 2
}
